{
 "cells": [
  {
   "cell_type": "code",
   "execution_count": 1,
   "metadata": {},
   "outputs": [
    {
     "name": "stdout",
     "output_type": "stream",
     "text": [
      "enter person1 name:jay\n",
      "enter person1 phone number: 123\n",
      "enter person2 name:r\n",
      "enter person2 phone number: 321\n",
      "enter person3 name:am\n",
      "enter person3 phone number: 222\n"
     ]
    }
   ],
   "source": [
    "phonebook = {}\n",
    "name = input(\"enter person1 name:\")\n",
    "phone = input(\"enter person1 phone number: \")\n",
    "phonebook[name] = phone\n",
    "\n",
    "name1 = input(\"enter person2 name:\")\n",
    "phone1 = input(\"enter person2 phone number: \")\n",
    "phonebook[name1] = phone1\n",
    "\n",
    "name2 = input(\"enter person3 name:\")\n",
    "phone2 = input(\"enter person3 phone number: \")\n",
    "phonebook[name2] = phone2\n",
    "\n"
   ]
  },
  {
   "cell_type": "code",
   "execution_count": 2,
   "metadata": {},
   "outputs": [
    {
     "name": "stdout",
     "output_type": "stream",
     "text": [
      "{'jay': '123', 'r': '321', 'am': '222'}\n"
     ]
    }
   ],
   "source": [
    "print(phonebook)"
   ]
  },
  {
   "cell_type": "code",
   "execution_count": 3,
   "metadata": {},
   "outputs": [
    {
     "name": "stdout",
     "output_type": "stream",
     "text": [
      "Who's number would you like to look up? jay\n",
      "123\n"
     ]
    }
   ],
   "source": [
    "print(\"Who's number would you like to look up?\", end=' ')\n",
    "print(phonebook[input()])"
   ]
  },
  {
   "cell_type": "code",
   "execution_count": 4,
   "metadata": {},
   "outputs": [
    {
     "name": "stdout",
     "output_type": "stream",
     "text": [
      "what number would you like to look up? 222\n"
     ]
    },
    {
     "ename": "KeyError",
     "evalue": "'222'",
     "output_type": "error",
     "traceback": [
      "\u001b[1;31m---------------------------------------------------------------------------\u001b[0m",
      "\u001b[1;31mKeyError\u001b[0m                                  Traceback (most recent call last)",
      "\u001b[1;32m<ipython-input-4-8d456f17bc37>\u001b[0m in \u001b[0;36m<module>\u001b[1;34m()\u001b[0m\n\u001b[0;32m      1\u001b[0m \u001b[0mreversephone\u001b[0m \u001b[1;33m=\u001b[0m \u001b[1;33m{\u001b[0m\u001b[0mphone\u001b[0m\u001b[1;33m:\u001b[0m \u001b[0mname\u001b[0m\u001b[1;33m,\u001b[0m \u001b[0mphone1\u001b[0m\u001b[1;33m:\u001b[0m \u001b[0mname1\u001b[0m\u001b[1;33m,\u001b[0m \u001b[0mphone2\u001b[0m\u001b[1;33m:\u001b[0m \u001b[0mname2\u001b[0m\u001b[1;33m}\u001b[0m\u001b[1;33m\u001b[0m\u001b[0m\n\u001b[0;32m      2\u001b[0m \u001b[0mlookup\u001b[0m \u001b[1;33m=\u001b[0m \u001b[0minput\u001b[0m\u001b[1;33m(\u001b[0m\u001b[1;34m\"what number would you like to look up? \"\u001b[0m\u001b[1;33m)\u001b[0m\u001b[1;33m\u001b[0m\u001b[0m\n\u001b[1;32m----> 3\u001b[1;33m \u001b[0mprint\u001b[0m\u001b[1;33m(\u001b[0m\u001b[1;34m'%s is the number belonging to %s'\u001b[0m \u001b[1;33m%\u001b[0m \u001b[1;33m(\u001b[0m\u001b[0mlookup\u001b[0m\u001b[1;33m,\u001b[0m \u001b[0mphonebook\u001b[0m\u001b[1;33m[\u001b[0m\u001b[0mlookup\u001b[0m\u001b[1;33m]\u001b[0m\u001b[1;33m)\u001b[0m\u001b[1;33m)\u001b[0m\u001b[1;33m\u001b[0m\u001b[0m\n\u001b[0m",
      "\u001b[1;31mKeyError\u001b[0m: '222'"
     ]
    }
   ],
   "source": [
    "reversephone = {phone: name, phone1: name1, phone2: name2}\n",
    "lookup = input(\"what number would you like to look up? \")\n",
    "print('%s is the number belonging to %s' % (lookup, phonebook[lookup]))\n"
   ]
  },
  {
   "cell_type": "code",
   "execution_count": null,
   "metadata": {},
   "outputs": [],
   "source": []
  },
  {
   "cell_type": "markdown",
   "metadata": {},
   "source": []
  }
 ],
 "metadata": {
  "kernelspec": {
   "display_name": "Python 3",
   "language": "python",
   "name": "python3"
  },
  "language_info": {
   "codemirror_mode": {
    "name": "ipython",
    "version": 3
   },
   "file_extension": ".py",
   "mimetype": "text/x-python",
   "name": "python",
   "nbconvert_exporter": "python",
   "pygments_lexer": "ipython3",
   "version": "3.6.3"
  }
 },
 "nbformat": 4,
 "nbformat_minor": 2
}
