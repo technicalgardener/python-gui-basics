{
 "cells": [
  {
   "cell_type": "code",
   "execution_count": 5,
   "metadata": {},
   "outputs": [
    {
     "data": {
      "application/vnd.jupyter.widget-view+json": {
       "model_id": "7121e6ffb0f54cc8813b85fe209e9907",
       "version_major": 2,
       "version_minor": 0
      },
      "text/plain": [
       "A Jupyter Widget"
      ]
     },
     "metadata": {},
     "output_type": "display_data"
    }
   ],
   "source": [
    "from ipyturtle import Turtle\n",
    "t = Turtle(fixed=False, width=320, height=320)\n",
    "\n",
    "def circle():\n",
    "    for i in range(270):\n",
    "        t.forward(1)\n",
    "        t.left(1)\n",
    "t.penup()\n",
    "t.forward(35)\n",
    "t.left(90)\n",
    "t.forward(15)\n",
    "t.right(45)\n",
    "t.pendown()\n",
    "t"
   ]
  },
  {
   "cell_type": "code",
   "execution_count": 6,
   "metadata": {
    "collapsed": true
   },
   "outputs": [],
   "source": [
    "circle()\n",
    "t.penup()\n",
    "t.right(45)\n",
    "t.forward(40)\n",
    "t.left(90)\n"
   ]
  },
  {
   "cell_type": "code",
   "execution_count": 7,
   "metadata": {
    "collapsed": true
   },
   "outputs": [],
   "source": [
    "t.pendown()\n",
    "t.forward(90)\n",
    "t.right(135)\n",
    "t.forward(60)\n",
    "t.left(90)\n",
    "t.forward(60)\n",
    "t.right(135)\n",
    "t.forward(90)"
   ]
  },
  {
   "cell_type": "code",
   "execution_count": 4,
   "metadata": {
    "collapsed": true
   },
   "outputs": [],
   "source": [
    "t.penup()\n",
    "t.right(135)\n",
    "t.forward(150)"
   ]
  },
  {
   "cell_type": "code",
   "execution_count": null,
   "metadata": {
    "collapsed": true
   },
   "outputs": [],
   "source": []
  }
 ],
 "metadata": {
  "kernelspec": {
   "display_name": "Python 3",
   "language": "python",
   "name": "python3"
  },
  "language_info": {
   "codemirror_mode": {
    "name": "ipython",
    "version": 3
   },
   "file_extension": ".py",
   "mimetype": "text/x-python",
   "name": "python",
   "nbconvert_exporter": "python",
   "pygments_lexer": "ipython3",
   "version": "3.6.3"
  }
 },
 "nbformat": 4,
 "nbformat_minor": 2
}
