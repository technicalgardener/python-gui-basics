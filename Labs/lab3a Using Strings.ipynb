{
 "cells": [
  {
   "cell_type": "code",
   "execution_count": 1,
   "metadata": {},
   "outputs": [
    {
     "name": "stdout",
     "output_type": "stream",
     "text": [
      "This is a stingle quote sring\n"
     ]
    }
   ],
   "source": [
    "print('This is a stingle quote sring')"
   ]
  },
  {
   "cell_type": "code",
   "execution_count": 2,
   "metadata": {},
   "outputs": [
    {
     "name": "stdout",
     "output_type": "stream",
     "text": [
      "'dis a double squote swring\n"
     ]
    }
   ],
   "source": [
    "print(\"\\'dis a double squote swring\")"
   ]
  },
  {
   "cell_type": "code",
   "execution_count": 3,
   "metadata": {},
   "outputs": [
    {
     "name": "stdout",
     "output_type": "stream",
     "text": [
      "and the sqipple swote twing\n"
     ]
    }
   ],
   "source": [
    "print('''and the sqipple swote twing''')"
   ]
  },
  {
   "cell_type": "code",
   "execution_count": 4,
   "metadata": {},
   "outputs": [
    {
     "name": "stdout",
     "output_type": "stream",
     "text": [
      "next to me is an ambler\n"
     ]
    }
   ],
   "source": [
    "name = \"ambler\"\n",
    "print(\"next to me is an %s\" % (name))"
   ]
  },
  {
   "cell_type": "code",
   "execution_count": 5,
   "metadata": {},
   "outputs": [
    {
     "name": "stdout",
     "output_type": "stream",
     "text": [
      "ambler is 27000000000 years old. Thats 3.140000 in ambler years.\n"
     ]
    }
   ],
   "source": [
    "digit = 27000000000\n",
    "floap = 3.14\n",
    "print('''%s is %d years old. Thats %f in %s years.''' % (name, digit, floap, name))"
   ]
  },
  {
   "cell_type": "code",
   "execution_count": 6,
   "metadata": {},
   "outputs": [
    {
     "name": "stdout",
     "output_type": "stream",
     "text": [
      "doggos\n",
      "\tpuppers\n",
      "\t\tand doges\n"
     ]
    }
   ],
   "source": [
    "print('''doggos\n",
    "\\tpuppers\n",
    "\\t\\tand doges''')"
   ]
  },
  {
   "cell_type": "code",
   "execution_count": 7,
   "metadata": {},
   "outputs": [
    {
     "name": "stdout",
     "output_type": "stream",
     "text": [
      "all your base are belong to doge\n"
     ]
    }
   ],
   "source": [
    "print(\"all your base\", end=\" \")\n",
    "print('''are belong to''', end=' ')\n",
    "print('doge')"
   ]
  },
  {
   "cell_type": "code",
   "execution_count": null,
   "metadata": {
    "collapsed": true
   },
   "outputs": [],
   "source": []
  }
 ],
 "metadata": {
  "kernelspec": {
   "display_name": "Python 3",
   "language": "python",
   "name": "python3"
  },
  "language_info": {
   "codemirror_mode": {
    "name": "ipython",
    "version": 3
   },
   "file_extension": ".py",
   "mimetype": "text/x-python",
   "name": "python",
   "nbconvert_exporter": "python",
   "pygments_lexer": "ipython3",
   "version": "3.6.3"
  }
 },
 "nbformat": 4,
 "nbformat_minor": 2
}
